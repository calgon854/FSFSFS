{
 "cells": [
  {
   "cell_type": "markdown",
   "metadata": {},
   "source": [
    "# **Modul: 3030 - GSA**\n"
   ]
  },
  {
   "cell_type": "markdown",
   "metadata": {},
   "source": [
    "**Autoren:**  \n",
    "Fabian Rüfenacht  \n",
    " Prof. Dr. Dante Salvini"
   ]
  },
  {
   "cell_type": "markdown",
   "metadata": {},
   "source": [
    "Datum: 15.10.2024\n"
   ]
  },
  {
   "cell_type": "markdown",
   "metadata": {},
   "source": [
    "# Geodätische Statistik & Ausgleichsrechnung - Freie Stationierung\n",
    "\n",
    "Die im Feldkurs in Brienz (BE) durchgeführte Freie Stationierung soll mit Hilfe einer \n",
    "vermittelnden Ausgleichung nachgerechnet und mit der App-Lösung von Captivate \n",
    "auf der MS60 verglichen werden.\n",
    "\n",
    "Es ist sicherzustellen, dass die im Felde gemessenen atmosphärisch korrigierten\n",
    "Distanzen als Projektionsdistanzen (= in der Projektionsebene reduzierte Distanz) \n",
    "in der Ausgleichung verwendet werden (im LQP von Leica Geosystems sind diese \n",
    "nicht dokumentiert). Die Distanzreduktion ist allenfalls vorgängig zu berechnen.\n",
    "\n",
    "### 1. Zielsetzung\n",
    "\n",
    "Anhand der bisher vermittelten Theorie soll eine Freie Stationierung mittels \n",
    "Ausgleichung «manuell» berechnet werden, um das Prinzip der vermittelnden\n",
    "Ausgleichung anhand eines eigenen nummerischen Beispiels praktisch zu \n",
    "vertiefen.\n",
    "\n",
    "### 3. Aufgabenstellung\n",
    "\n",
    "Die Freie Station soll mittels einer vermittelnden Ausgleichung streng ausgeglichen \n",
    "werden, und zwar in einer ersten Variante ohne Massstabsunbekannte und in einer \n",
    "zweiten Variante mit Massstabsunbekannte.\n",
    "Gesucht sind:\n",
    "- Die ausgeglichenen Koordinaten (nur Lage) der Freien Stationierung\n",
    "- Genauigkeit der Koordinaten\n",
    "\n",
    "### 3. Vorgehen\n",
    "#### 3.1. Ausgleichung\n",
    "1. Bestimmen Sie die Projektionsdistanzen (Vorbereitungsarbeit, falls nötig)\n",
    "2. Veranschaulichen Sie die Situation graphisch und tragen Sie die n Beobachtungen und die u Unbekannten der Aufgabenstellung ein\n",
    "3. Stellen Sie die Beobachtungsgleichungen auf (funktionales Modell)\n",
    "4. Legen Sie die Näherungswerte für die Unbekannten fest\n",
    "5. Bilden Sie anschliessend die Verbesserungsgleichungen und bestimmen Sie die Absolutglieder (f Vektor)\n",
    "6. Berechnung Sie die Standardabweichungen der Beobachtungen (stochastisches Modell)\n",
    "7. Definieren Sie die Gewichte der einzelnen Beobachtungen\n",
    "8. Stellen Sie das System der Normalgleichungen auf\n",
    "9. Lösen Sie das Normalgleichungssystem (Berechnung der Unbekannten)\n",
    "10. Berechnung der ausgeglichenen Koordinaten der Freien Station\n",
    "11. Bestimmen Sie die Verbesserungen an den Beobachtungen\n",
    "12. Bestimmen Sie die ausgeglichenen Beobachtungen\n",
    "13. Führen Sie die Schlussprobe und den Modelltest durch\n",
    "\n",
    "#### 3.2 Genauigkeit (am 22.10.2024)\n",
    "1. Bestimmen Sie die Anzahl der Messungen (n), der Unbekannten (u) und den Freiheitsgrad (f) der Ausgleichung.\n",
    "2. Berechnen Sie die Genauigkeit der Koordinaten der Freien Station\n",
    "\n",
    "### 4. Beobachtungen\n",
    "Als Beobachtungen führen Sie Ihre eigenen Messungen aus dem Feldkurs in Brienz (2024) ein.\n",
    "\n",
    "### 5. Hilfsmittel\n",
    "Es wird empfohlen das vorliegende Jupyter-Notebook zu verwenden.\n"
   ]
  },
  {
   "cell_type": "markdown",
   "metadata": {},
   "source": [
    "# Einrichten der Umgebung\n",
    "\n",
    "**Systemvoraussetzungen**\n",
    "\n",
    "Für die Übung müssen folgende Programme installiert sein. Für ältere Versionen ist die Funktionalität nicht garantiert.\n",
    "\n",
    "|Programm|Version|\n",
    "|----|----|\n",
    "|Conda|24.5.0|\n",
    "|Python|3.12.4|\n",
    "|Visual Studio Code (o.ä.)|1.93.0|\n",
    "\n",
    "**Environment aufsetzen** (nur falls nicht bereits gemacht! sonst nur ```pip install pandas```)\n",
    "\n",
    "1. starten Sie das die ```Anaconda Prompt```\n",
    "2. geben Sie folgenden Befehl ein ```conda create -n GSA python=3.12```\n",
    "3. aktivieren Sie das Environment mit ```conda activate GSA```\n",
    "4. installieren Sie numpy für Matrixoperationen mit ```pip install numpy pandas```\n",
    "5. In diesem Notebook:\n",
    "    - starten Sie VSCode neu\n",
    "    - klicken Sie oben rechts auf ```Select Kernel``` um das Environment auszuwählen\n",
    "    - wählen Sie ```Python Environments...``` --> ```GSA```\n"
   ]
  },
  {
   "cell_type": "markdown",
   "metadata": {},
   "source": [
    "# Einlesen der Messwerte"
   ]
  },
  {
   "cell_type": "code",
   "execution_count": 42,
   "metadata": {},
   "outputs": [
    {
     "name": "stdout",
     "output_type": "stream",
     "text": [
      "{'name': '9900001', 'IH': 0.0, 'O': 2767600.56, 'N': 1158776.437, 'H': 1411.296, 'anschluesse': [{'name': '106', 'O': 2767574.484, 'N': 1158774.239, 'H': 1408.458, 'RH': 1.3, 'SD': 26.209, 'HD': 26.164, 'HZ': 294.6613, 'V': 103.7269}, {'name': '105', 'O': 2767599.158, 'N': 1158801.777, 'H': 1409.501, 'RH': 1.3, 'SD': 25.392, 'HD': 25.387, 'HZ': 396.4415, 'V': 101.2406}, {'name': '107', 'O': 2767601.696, 'N': 1158753.407, 'H': 1409.8, 'RH': 1.3, 'SD': 23.064, 'HD': 23.063, 'HZ': 196.8441, 'V': 100.582}, {'name': '104', 'O': 2767652.281, 'N': 1158779.872, 'H': 1408.838, 'RH': 1.3, 'SD': 51.857, 'HD': 51.844, 'HZ': 95.7875, 'V': 101.4078}]}\n"
     ]
    }
   ],
   "source": [
    "import src.lqpReader as lqpReader\n",
    "\n",
    "lqp_sections = lqpReader.parseLQP(\"./data/FS_CA_Montana.lqp\")\n",
    "resections = lqpReader.get_resections(lqp_sections)\n",
    "setups = lqpReader.process_resections(resections)\n",
    "measurements_dict = setups[0] # get all measurements of the first setup\n",
    "\n",
    "print(measurements_dict)"
   ]
  },
  {
   "cell_type": "code",
   "execution_count": 43,
   "metadata": {},
   "outputs": [
    {
     "name": "stdout",
     "output_type": "stream",
     "text": [
      "2767600.56 1158776.437\n"
     ]
    }
   ],
   "source": [
    "print(measurements_dict['O'],measurements_dict['N'])"
   ]
  },
  {
   "cell_type": "code",
   "execution_count": 44,
   "metadata": {},
   "outputs": [],
   "source": [
    "# import src.lqpReader_old as lqpReader\n",
    "\n",
    "# lqp_sections = lqpReader.parseLQP(\"./data/FS_Ca_Montana.lqp\")\n",
    "# resections = lqpReader.get_resections(lqp_sections)\n",
    "# setups = lqpReader.process_resections(resections)\n",
    "# measurements_dict = setups[0] # get all measurements of the first setup\n",
    "\n",
    "# print(measurements_dict)"
   ]
  },
  {
   "cell_type": "markdown",
   "metadata": {},
   "source": [
    "# Ausgleichung"
   ]
  },
  {
   "cell_type": "markdown",
   "metadata": {},
   "source": [
    "1. Projektionsdistanzen bestimmen (vgl. Kapitel 4.3.1 Skript GMTG)"
   ]
  },
  {
   "cell_type": "code",
   "execution_count": 45,
   "metadata": {},
   "outputs": [
    {
     "data": {
      "text/html": [
       "<div>\n",
       "<style scoped>\n",
       "    .dataframe tbody tr th:only-of-type {\n",
       "        vertical-align: middle;\n",
       "    }\n",
       "\n",
       "    .dataframe tbody tr th {\n",
       "        vertical-align: top;\n",
       "    }\n",
       "\n",
       "    .dataframe thead th {\n",
       "        text-align: right;\n",
       "    }\n",
       "</style>\n",
       "<table border=\"1\" class=\"dataframe\">\n",
       "  <thead>\n",
       "    <tr style=\"text-align: right;\">\n",
       "      <th></th>\n",
       "      <th>Nr</th>\n",
       "      <th>Ost</th>\n",
       "      <th>Nord</th>\n",
       "      <th>hoehe</th>\n",
       "      <th>HZ</th>\n",
       "      <th>dH</th>\n",
       "      <th>d0</th>\n",
       "      <th>dProj</th>\n",
       "    </tr>\n",
       "  </thead>\n",
       "  <tbody>\n",
       "    <tr>\n",
       "      <th>0</th>\n",
       "      <td>106</td>\n",
       "      <td>2767574.4840</td>\n",
       "      <td>1158774.2390</td>\n",
       "      <td>1408.4580</td>\n",
       "      <td>294.6613</td>\n",
       "      <td>26.1641</td>\n",
       "      <td>26.1583</td>\n",
       "      <td>26.1589</td>\n",
       "    </tr>\n",
       "    <tr>\n",
       "      <th>1</th>\n",
       "      <td>105</td>\n",
       "      <td>2767599.1580</td>\n",
       "      <td>1158801.7770</td>\n",
       "      <td>1409.5010</td>\n",
       "      <td>396.4415</td>\n",
       "      <td>25.3872</td>\n",
       "      <td>25.3816</td>\n",
       "      <td>25.3821</td>\n",
       "    </tr>\n",
       "    <tr>\n",
       "      <th>2</th>\n",
       "      <td>107</td>\n",
       "      <td>2767601.6960</td>\n",
       "      <td>1158753.4070</td>\n",
       "      <td>1409.8000</td>\n",
       "      <td>196.8441</td>\n",
       "      <td>23.0630</td>\n",
       "      <td>23.0579</td>\n",
       "      <td>23.0584</td>\n",
       "    </tr>\n",
       "    <tr>\n",
       "      <th>3</th>\n",
       "      <td>104</td>\n",
       "      <td>2767652.2810</td>\n",
       "      <td>1158779.8720</td>\n",
       "      <td>1408.8380</td>\n",
       "      <td>95.7875</td>\n",
       "      <td>51.8443</td>\n",
       "      <td>51.8329</td>\n",
       "      <td>51.8340</td>\n",
       "    </tr>\n",
       "  </tbody>\n",
       "</table>\n",
       "</div>"
      ],
      "text/plain": [
       "    Nr          Ost         Nord     hoehe       HZ      dH      d0   dProj\n",
       "0  106 2767574.4840 1158774.2390 1408.4580 294.6613 26.1641 26.1583 26.1589\n",
       "1  105 2767599.1580 1158801.7770 1409.5010 396.4415 25.3872 25.3816 25.3821\n",
       "2  107 2767601.6960 1158753.4070 1409.8000 196.8441 23.0630 23.0579 23.0584\n",
       "3  104 2767652.2810 1158779.8720 1408.8380  95.7875 51.8443 51.8329 51.8340"
      ]
     },
     "execution_count": 45,
     "metadata": {},
     "output_type": "execute_result"
    }
   ],
   "source": [
    "import numpy as np\n",
    "import src.custom_print as cp\n",
    "import pandas as pd\n",
    "\n",
    "RHO = np.pi / 200\n",
    "ERDRADIUS = 6_378_816 # meter\n",
    "\n",
    "names = [obs[\"name\"] for obs in measurements_dict[\"anschluesse\"]]\n",
    "\n",
    "\n",
    "SD = [obs[\"SD\"] for obs in measurements_dict[\"anschluesse\"]] # Schrägdistanzen in Liste schreiben\n",
    "V = [obs[\"V\"] for obs in measurements_dict[\"anschluesse\"]] # Vertikalwinkel in Liste schreiben\n",
    "e_coord = [obs[\"O\"] for obs in measurements_dict[\"anschluesse\"]] # Ostkoordinaten Anschlusspunkte in Liste schreiben\n",
    "n_coord = [obs[\"N\"] for obs in measurements_dict[\"anschluesse\"]] # Nordkoordinaten Anschlusspunkte in Liste schreiben\n",
    "heights = [obs[\"H\"] for obs in measurements_dict[\"anschluesse\"]] # Höhen Anschlusspunkte in Liste schreiben\n",
    "directions = [obs[\"HZ\"] for obs in measurements_dict[\"anschluesse\"]] # Horizonalrichungen in Liste schreiben\n",
    "\n",
    "dH = [np.sin(_zenitwinkel*RHO)*_schraegdist for _zenitwinkel, _schraegdist in zip(V, SD)] #TODO: Horizontaldistanz für jede Messung berechnen. Ersetze ... mit der Berechnung\n",
    "d0 = [_dh-(_dh*(hoehe/(ERDRADIUS+hoehe))) for _dh, hoehe in zip(dH, heights)] # TODO: Distanz auf Höhe 0 berechnen. Ersetze ... mit der Berechnung\n",
    "d_proj = [_d0+(_d0*((nord-1200000)**2/(2*ERDRADIUS**2))) for _d0, nord in zip(d0, n_coord)] # TODO: Projektionsdistanz berechnen. Ersetze ... mit der Berechnung\n",
    "\n",
    "measurements = pd.DataFrame({ # Resultate in ein neues Dataframe schreiben um sie später einfacher wiederzuverwenden\n",
    "    \"Nr\": names,\n",
    "    \"Ost\": e_coord,\n",
    "    \"Nord\": n_coord,\n",
    "    \"hoehe\": heights,\n",
    "    \"HZ\": directions,\n",
    "    \"dH\": dH,\n",
    "    \"d0\": d0,\n",
    "    \"dProj\": d_proj,\n",
    "\n",
    "    })\n",
    "\n",
    "measurements.head()"
   ]
  },
  {
   "cell_type": "markdown",
   "metadata": {},
   "source": [
    "2. Veranschaulichen Sie die Situation graphisch und tragen Sie die n Beobachtungen und die u Unbekannten der Aufgabenstellung ein\n",
    "\n",
    "Fügen Sie den Screenshot in der untenstehenden Zelle ein."
   ]
  },
  {
   "cell_type": "markdown",
   "metadata": {},
   "source": [
    "*Bild hier einfügen*"
   ]
  },
  {
   "cell_type": "markdown",
   "metadata": {},
   "source": [
    "3. Beobachtungsgleichungen aufstellen (funktionales Modell)\n",
    "\n",
    "Fügen Sie einen Screenshot oder die Formel in der untenstehenden Zelle ein."
   ]
  },
  {
   "attachments": {
    "image.png": {
     "image/png": "[encoded data removed]"
    }
   },
   "cell_type": "markdown",
   "metadata": {},
   "source": [
    "![image.png](attachment:image.png)"
   ]
  },
  {
   "cell_type": "markdown",
   "metadata": {},
   "source": [
    "*Bild oder Formel*\n",
    "\n",
    "Formelvorlage:\n",
    "$$Distanz$$\n",
    "$$\\overline{d_{ik}} = d_{ik} + v = \\sqrt{(x_{k} - x_{i})^2 + (y_{k} - y_{i})^2} ...$$\n",
    "\n",
    "$$Richtungen$$\n",
    "$$\\overline{ri_{ik}} = ri_{ik} + v_{ik} = arctan(\\frac{E_{k} - E_{i}}{N_{k} - N_{i}})...$$"
   ]
  },
  {
   "cell_type": "markdown",
   "metadata": {},
   "source": [
    "4. Näherungswerte der Unbekannten & der Beobachtungen"
   ]
  },
  {
   "cell_type": "code",
   "execution_count": 46,
   "metadata": {},
   "outputs": [
    {
     "name": "stdout",
     "output_type": "stream",
     "text": [
      "2767600.56 1158776.437 0.008456173871401518 1\n",
      "    Nr          Ost         Nord     hoehe       HZ      dH      d0   dProj  \\\n",
      "0  106 2767574.4840 1158774.2390 1408.4580 294.6613 26.1641 26.1583 26.1589   \n",
      "1  105 2767599.1580 1158801.7770 1409.5010 396.4415 25.3872 25.3816 25.3821   \n",
      "2  107 2767601.6960 1158753.4070 1409.8000 196.8441 23.0630 23.0579 23.0584   \n",
      "3  104 2767652.2810 1158779.8720 1408.8380  95.7875 51.8443 51.8329 51.8340   \n",
      "\n",
      "       Azi     Ori  \n",
      "0 294.6465 -0.0148  \n",
      "1 396.4813  0.0398  \n",
      "2 196.8623  0.0182  \n",
      "3  95.7782 -0.0093  \n"
     ]
    }
   ],
   "source": [
    "# Näherungswerte der Unbekannten\n",
    "e_approx_FS = measurements_dict[\"O\"] #Näherungswert FS Ost\n",
    "n_approx_FS = measurements_dict[\"N\"] #Näherungswert FS Nord\n",
    "\n",
    "def berechne_azimut(e_i, n_i, e_k, n_k):\n",
    "    delta_E = e_k - e_i\n",
    "    delta_N = n_k - n_i\n",
    "    azimut_rad = np.arctan2(delta_E, delta_N)  # arctan2(y, x)\n",
    "\n",
    "    # Radianten in Gon umrechnen\n",
    "    azimut_gon = azimut_rad / (2 * np.pi) * 400\n",
    "\n",
    "    # Azimut im Bereich [0, 400) gon halten\n",
    "    if azimut_gon < 0:\n",
    "        azimut_gon += 400\n",
    "\n",
    "    return azimut_gon\n",
    "\n",
    "measurements[\"Azi\"] = [\n",
    "    berechne_azimut(e_approx_FS, n_approx_FS, e, n)\n",
    "    for e, n in zip(measurements[\"Ost\"], measurements[\"Nord\"])\n",
    "] # TODO: Azimut aus Näherungskoordinate berechnen\n",
    "\n",
    "measurements[\"Azi\"] = np.where(measurements[\"Azi\"] > 0, measurements[\"Azi\"], measurements[\"Azi\"] + 400) # Falls Azimut <0 ist, muss es korrigiert werden\n",
    "measurements[\"Ori\"] = measurements[\"Azi\"] - measurements[\"HZ\"] # TODO: Orientierung für jede Beobachtung bessen\n",
    "\n",
    "ori_approx_FS = measurements[\"Ori\"].mean() #TODO: geeigneten Näherungswert für die Orientierung berechnen\n",
    "scale_approx_FS = 1 # TODO: geeigneten Näherungswert für den Massstab definieren\n",
    "\n",
    "unknown_names = ['Ori', 'm', 'N', 'E'] # Namen der Unbekannten\n",
    "approx_vect = np.array([ori_approx_FS, scale_approx_FS, n_approx_FS, e_approx_FS], np.float64) # Vektor mit allen Näherungswerten erstellen\n",
    "\n",
    "print(e_approx_FS, n_approx_FS, ori_approx_FS, scale_approx_FS) # Ausgabe der Näherungswerte\n",
    "# Überprüfung der Ergebnisse\n",
    "print(measurements.head())\n"
   ]
  },
  {
   "cell_type": "code",
   "execution_count": 47,
   "metadata": {},
   "outputs": [
    {
     "data": {
      "text/html": [
       "<div>\n",
       "<style scoped>\n",
       "    .dataframe tbody tr th:only-of-type {\n",
       "        vertical-align: middle;\n",
       "    }\n",
       "\n",
       "    .dataframe tbody tr th {\n",
       "        vertical-align: top;\n",
       "    }\n",
       "\n",
       "    .dataframe thead th {\n",
       "        text-align: right;\n",
       "    }\n",
       "</style>\n",
       "<table border=\"1\" class=\"dataframe\">\n",
       "  <thead>\n",
       "    <tr style=\"text-align: right;\">\n",
       "      <th></th>\n",
       "      <th>Nr</th>\n",
       "      <th>Ost</th>\n",
       "      <th>Nord</th>\n",
       "      <th>hoehe</th>\n",
       "      <th>HZ</th>\n",
       "      <th>dH</th>\n",
       "      <th>d0</th>\n",
       "      <th>dProj</th>\n",
       "      <th>Azi</th>\n",
       "      <th>Ori</th>\n",
       "      <th>naehDist</th>\n",
       "      <th>naehHZ</th>\n",
       "    </tr>\n",
       "  </thead>\n",
       "  <tbody>\n",
       "    <tr>\n",
       "      <th>0</th>\n",
       "      <td>106</td>\n",
       "      <td>2767574.4840</td>\n",
       "      <td>1158774.2390</td>\n",
       "      <td>1408.4580</td>\n",
       "      <td>294.6613</td>\n",
       "      <td>26.1641</td>\n",
       "      <td>26.1583</td>\n",
       "      <td>26.1589</td>\n",
       "      <td>294.6465</td>\n",
       "      <td>-0.0148</td>\n",
       "      <td>26.1685</td>\n",
       "      <td>294.6698</td>\n",
       "    </tr>\n",
       "    <tr>\n",
       "      <th>1</th>\n",
       "      <td>105</td>\n",
       "      <td>2767599.1580</td>\n",
       "      <td>1158801.7770</td>\n",
       "      <td>1409.5010</td>\n",
       "      <td>396.4415</td>\n",
       "      <td>25.3872</td>\n",
       "      <td>25.3816</td>\n",
       "      <td>25.3821</td>\n",
       "      <td>396.4813</td>\n",
       "      <td>0.0398</td>\n",
       "      <td>25.3788</td>\n",
       "      <td>396.4500</td>\n",
       "    </tr>\n",
       "    <tr>\n",
       "      <th>2</th>\n",
       "      <td>107</td>\n",
       "      <td>2767601.6960</td>\n",
       "      <td>1158753.4070</td>\n",
       "      <td>1409.8000</td>\n",
       "      <td>196.8441</td>\n",
       "      <td>23.0630</td>\n",
       "      <td>23.0579</td>\n",
       "      <td>23.0584</td>\n",
       "      <td>196.8623</td>\n",
       "      <td>0.0182</td>\n",
       "      <td>23.0580</td>\n",
       "      <td>196.8526</td>\n",
       "    </tr>\n",
       "    <tr>\n",
       "      <th>3</th>\n",
       "      <td>104</td>\n",
       "      <td>2767652.2810</td>\n",
       "      <td>1158779.8720</td>\n",
       "      <td>1408.8380</td>\n",
       "      <td>95.7875</td>\n",
       "      <td>51.8443</td>\n",
       "      <td>51.8329</td>\n",
       "      <td>51.8340</td>\n",
       "      <td>95.7782</td>\n",
       "      <td>-0.0093</td>\n",
       "      <td>51.8349</td>\n",
       "      <td>95.7960</td>\n",
       "    </tr>\n",
       "  </tbody>\n",
       "</table>\n",
       "</div>"
      ],
      "text/plain": [
       "    Nr          Ost         Nord     hoehe       HZ      dH      d0   dProj  \\\n",
       "0  106 2767574.4840 1158774.2390 1408.4580 294.6613 26.1641 26.1583 26.1589   \n",
       "1  105 2767599.1580 1158801.7770 1409.5010 396.4415 25.3872 25.3816 25.3821   \n",
       "2  107 2767601.6960 1158753.4070 1409.8000 196.8441 23.0630 23.0579 23.0584   \n",
       "3  104 2767652.2810 1158779.8720 1408.8380  95.7875 51.8443 51.8329 51.8340   \n",
       "\n",
       "       Azi     Ori  naehDist   naehHZ  \n",
       "0 294.6465 -0.0148   26.1685 294.6698  \n",
       "1 396.4813  0.0398   25.3788 396.4500  \n",
       "2 196.8623  0.0182   23.0580 196.8526  \n",
       "3  95.7782 -0.0093   51.8349  95.7960  "
      ]
     },
     "execution_count": 47,
     "metadata": {},
     "output_type": "execute_result"
    }
   ],
   "source": [
    "# Näherungswerte der Unbekannten\n",
    "\n",
    "def berechne_distanz(e_start, n_start, e_end, n_end):\n",
    "    return np.sqrt((e_end - e_start) ** 2 + (n_end - n_start) ** 2)\n",
    "\n",
    "measurements[\"naehDist\"] = [\n",
    "    berechne_distanz(e_approx_FS, n_approx_FS, e, n)\n",
    "    for e, n in zip(measurements[\"Ost\"], measurements[\"Nord\"])\n",
    "] #TODO: Distanz aus den Näherungswerten berechnen\n",
    "\n",
    "# Korrigierte Horizontalrichtung berechnen (Orientierung wird als Unbekannte behandelt)\n",
    "measurements[\"naehHZ\"] = measurements[\"HZ\"] + ori_approx_FS # TODO: die korrigierte Richtung setzt sich aus der Messung und der Orientierungsunbekannten zusammen.\n",
    "measurements[\"naehHZ\"] = np.where(measurements[\"naehHZ\"] > 0, measurements[\"naehHZ\"], measurements[\"naehHZ\"] + 400) # Korrektur falls Wert <0\n",
    "\n",
    "measurements.head()"
   ]
  },
  {
   "cell_type": "markdown",
   "metadata": {},
   "source": [
    "5. Verbesserungsgleichungen aufstellen und A-Matrix sowie f-Vektor bilden\n",
    "\n",
    "Fügen Sie einen Screenshot der Verbesserungsgleichungen in die untenstehende Zelle ein."
   ]
  },
  {
   "attachments": {
    "image.png": {
     "image/png": "[encoded data removed]"
    }
   },
   "cell_type": "markdown",
   "metadata": {},
   "source": [
    "![image.png](attachment:image.png)"
   ]
  },
  {
   "cell_type": "markdown",
   "metadata": {},
   "source": [
    "*Bild oder Formel der Verbesserungsgleichungen*\n",
    "\n",
    "**$$Distanz$$**\n",
    "$$v_{ik} = -cos(\\alpha_{0} * x_{i}) - sin(\\alpha_{0} * y_{i}) - d{0} * m - (d_{ik} - d_{0})$$\n",
    "\n",
    "$$mit:$$\n",
    "$$d_{0} = Projektionsdistanz \\ aus \\ Näherungswerten$$\n",
    "$$d_{ik} = Projektionsdistanz \\ aus \\ Messung$$\n",
    "\n",
    "**$$Richtungen$$**"
   ]
  },
  {
   "cell_type": "code",
   "execution_count": 48,
   "metadata": {},
   "outputs": [
    {
     "name": "stdout",
     "output_type": "stream",
     "text": [
      "Index(['Nr', 'Ost', 'Nord', 'hoehe', 'HZ', 'dH', 'd0', 'dProj', 'Azi', 'Ori',\n",
      "       'naehDist', 'naehHZ'],\n",
      "      dtype='object')\n"
     ]
    }
   ],
   "source": [
    "print(measurements.columns)"
   ]
  },
  {
   "cell_type": "code",
   "execution_count": 49,
   "metadata": {},
   "outputs": [
    {
     "name": "stdout",
     "output_type": "stream",
     "text": [
      "['Ori', 'm', 'N', 'E']\n"
     ]
    }
   ],
   "source": [
    "print(unknown_names)"
   ]
  },
  {
   "attachments": {
    "image.png": {
     "image/png": "[encoded data removed]"
    }
   },
   "cell_type": "markdown",
   "metadata": {},
   "source": [
    "![image.png](attachment:image.png)"
   ]
  },
  {
   "attachments": {
    "image.png": {
     "image/png": "[encoded data removed]"
    }
   },
   "cell_type": "markdown",
   "metadata": {},
   "source": [
    "![image.png](attachment:image.png)"
   ]
  },
  {
   "cell_type": "code",
   "execution_count": 50,
   "metadata": {},
   "outputs": [
    {
     "name": "stdout",
     "output_type": "stream",
     "text": [
      "           Ori       m       N       E\n",
      "106 ri -1.0000  0.0000 -2.4242  0.2043\n",
      "105 ri -1.0000  0.0000 -0.1386 -2.5046\n",
      "107 ri -1.0000  0.0000  0.1360  2.7576\n",
      "104 ri -1.0000  0.0000  1.2255 -0.0814\n",
      "106 di  0.0000 -0.0262  0.0840  0.9965\n",
      "105 di  0.0000 -0.0254 -0.9985  0.0552\n",
      "107 di  0.0000 -0.0231  0.9988 -0.0493\n",
      "104 di  0.0000 -0.0518 -0.0663 -0.9978\n"
     ]
    }
   ],
   "source": [
    "no_obs = 2 * measurements.shape[0] # jeweils Distanz und Richtung\n",
    "no_unknowns = len(unknown_names) # E, N, Ori, Massstab\n",
    "A_mat = np.zeros((no_obs, no_unknowns))\n",
    "\n",
    "for idx, i in measurements.iterrows():    \n",
    "\n",
    "    # Übertragungsfaktoren Richtung   --> zb kein Massstab\n",
    "    A_mat[idx][0] = -1 # TODO: Übertragungsfaktor für die Orientierung berechnen (falls nötig)\n",
    "    A_mat[idx][1] = 0 # TODO: Übertragungsfaktor für die Distanz berechnen (falls nötig)\n",
    "    A_mat[idx][2] = (i['Ost'] - e_approx_FS) / i[\"naehDist\"]**2 / RHO # TODO: Übertragungsfaktor für die Noordkoordinate berechnen (falls nötig)\n",
    "    A_mat[idx][3] = - (i['Nord'] - n_approx_FS) / i[\"naehDist\"]**2 / RHO# TODO: Übertragungsfaktor für die Ostkoordinate berechnen (falls nötig)\n",
    "    \n",
    "    # Übertragungsfaktoren Distanz\n",
    "    A_mat[idx + no_obs // 2][0] = 0 # TODO: Übertragungsfaktor für die Orientierung berechnen (falls nötig)\n",
    "    A_mat[idx + no_obs // 2][1] = -i[\"naehDist\"]/1000 # TODO: Übertragungsfaktor für die Distanz berechnen (falls nötig)\n",
    "    A_mat[idx + no_obs // 2][2] =  - (i['Nord'] - n_approx_FS) / i[\"naehDist\"] # TODO: Übertragungsfaktor für die Noordkoordinate berechnen (falls nöti\n",
    "    A_mat[idx + no_obs // 2][3] =  - (i['Ost'] - e_approx_FS) / i[\"naehDist\"] # TODO: Übertragungsfaktor für die Ostkoordinate berechnen (falls nötig)\n",
    "\n",
    "obs_names = [str(i) + \" ri\" for i in names] + [str(i) + \" di\" for i in names] # Namen der Beobachtungen in einer Liste speichern  \n",
    "\n",
    "cp.mat_nxu(A_mat, row_names=obs_names, col_names=unknown_names)"
   ]
  },
  {
   "cell_type": "code",
   "execution_count": 51,
   "metadata": {},
   "outputs": [],
   "source": [
    "# weil nicht lineares gleichungssystem -> f-vektor durch messen - genährt bilden"
   ]
  },
  {
   "cell_type": "code",
   "execution_count": 52,
   "metadata": {},
   "outputs": [
    {
     "name": "stdout",
     "output_type": "stream",
     "text": [
      "               \n",
      "106 ri  23.3007\n",
      "105 ri -31.3703\n",
      "107 ri  -9.7349\n",
      "104 ri  17.8046\n",
      "106 di  -9.6010\n",
      "105 di   3.3447\n",
      "107 di   0.4214\n",
      "104 di  -0.9852\n"
     ]
    },
    {
     "name": "stderr",
     "output_type": "stream",
     "text": [
      "c:\\Users\\Ignaz\\Desktop\\Studium\\Module\\IT\\GIT\\Excercises\\u04-freie-stationierung-calgon854\\src\\custom_print.py:58: FutureWarning: DataFrame.applymap has been deprecated. Use DataFrame.map instead.\n",
      "  df = df.applymap(lambda x: round(x, accuracy) if isinstance(x, (int, float)) else x)\n"
     ]
    }
   ],
   "source": [
    "f_HZ = list(measurements['naehHZ'] - measurements['Azi'] ) # TODO: Berechnen des Absolutigliedes für Horizontalrichtungen. Ersetzen Sie ... mit der Berechnung. Richtungsbeobachtungen\n",
    "f_dist = list(measurements['dProj'] - measurements['naehDist']) # TODO: Berechnen des Absolutigliedes für Distanzen. Ersetzen Sie ... mit der Berechnung.\n",
    "f_vect = np.array(f_HZ + f_dist, np.float64) * 1000 # in mm / mgon umrechnen, damit die Resultate in geeigneter Einheit erscheinen. Die beiden Listen (f_HZ & F_dist) werden aneinandergereiht.\n",
    "\n",
    "\n",
    "cp.vect(f_vect, row_names=obs_names, unknowns=True)"
   ]
  },
  {
   "cell_type": "markdown",
   "metadata": {},
   "source": [
    "6. Standardabweichungen der Beobachtungen (stochastisches Modell)"
   ]
  },
  {
   "cell_type": "code",
   "execution_count": 53,
   "metadata": {},
   "outputs": [
    {
     "name": "stdout",
     "output_type": "stream",
     "text": [
      "        Stab. Beob.\n",
      "106 ri       0.3000\n",
      "105 ri       0.3000\n",
      "107 ri       0.3000\n",
      "104 ri       0.3000\n",
      "106 di       1.0393\n",
      "105 di       1.0381\n",
      "107 di       1.0346\n",
      "104 di       1.0778\n"
     ]
    },
    {
     "name": "stderr",
     "output_type": "stream",
     "text": [
      "c:\\Users\\Ignaz\\Desktop\\Studium\\Module\\IT\\GIT\\Excercises\\u04-freie-stationierung-calgon854\\src\\custom_print.py:58: FutureWarning: DataFrame.applymap has been deprecated. Use DataFrame.map instead.\n",
      "  df = df.applymap(lambda x: round(x, accuracy) if isinstance(x, (int, float)) else x)\n"
     ]
    }
   ],
   "source": [
    "# folgende 4 Werte können bei Bedarf verändert werden\n",
    "SIGMA0 = 1\n",
    "SIGMARI = 0.3 #mgon\n",
    "sigma_Di_const = 1\n",
    "sigma_Di_ppm = 1.5\n",
    "\n",
    "# Funktion zur Berechnung der Genauigkeit der Distanz\n",
    "def getSigmaDi(distance: float) -> float:\n",
    "    return sigma_Di_const + (distance * sigma_Di_ppm / 1000) #TODO: 0 mit der Berechnung ersetzen. Resultat soll die Genauigkeit einer Messung sein\n",
    "    \n",
    "measurements[\"stabwRI\"] = SIGMARI ###TODO: 0 mit Genauigkeit einer Richtungsmessung ersetzen. Es wird nicht über die Distanz gewichtet\n",
    "measurements[\"stabwDist\"] = getSigmaDi(distance=measurements[\"naehDist\"]) # Berechnen der Stabw. einer Distanz\n",
    "# print(measurements.head())\n",
    "\n",
    "std_obs = np.array(list(measurements[\"stabwRI\"]) + list(measurements[\"stabwDist\"]), np.float64) # Die Standardabweichungen werden in einen Vektor geschrieben\n",
    "\n",
    "cp.vect(std_obs, row_names=obs_names, title=\"Stab. Beob.\")"
   ]
  },
  {
   "cell_type": "markdown",
   "metadata": {},
   "source": [
    "7. Gewichte der Beobachtungen festlegen und Gewichtsmatrix P bilden"
   ]
  },
  {
   "attachments": {
    "image.png": {
     "image/png": "[encoded data removed]"
    }
   },
   "cell_type": "markdown",
   "metadata": {},
   "source": [
    "![image.png](attachment:image.png)"
   ]
  },
  {
   "cell_type": "code",
   "execution_count": 54,
   "metadata": {},
   "outputs": [
    {
     "name": "stdout",
     "output_type": "stream",
     "text": [
      "        106 ri  105 ri  107 ri  104 ri  106 di  105 di  107 di  104 di\n",
      "106 ri 11.1111  0.0000  0.0000  0.0000  0.0000  0.0000  0.0000  0.0000\n",
      "105 ri  0.0000 11.1111  0.0000  0.0000  0.0000  0.0000  0.0000  0.0000\n",
      "107 ri  0.0000  0.0000 11.1111  0.0000  0.0000  0.0000  0.0000  0.0000\n",
      "104 ri  0.0000  0.0000  0.0000 11.1111  0.0000  0.0000  0.0000  0.0000\n",
      "106 di  0.0000  0.0000  0.0000  0.0000  0.9259  0.0000  0.0000  0.0000\n",
      "105 di  0.0000  0.0000  0.0000  0.0000  0.0000  0.9280  0.0000  0.0000\n",
      "107 di  0.0000  0.0000  0.0000  0.0000  0.0000  0.0000  0.9343  0.0000\n",
      "104 di  0.0000  0.0000  0.0000  0.0000  0.0000  0.0000  0.0000  0.8609\n"
     ]
    }
   ],
   "source": [
    "p_i = (SIGMA0 / std_obs) ** 2 # TODO: 0 mit der Berechnung der Gewichte ersetzen\n",
    "\n",
    "P_mat = np.zeros((no_obs, no_obs))\n",
    "\n",
    "for idx, i in enumerate(p_i): # Der Vektor (p_i) wird in eine Diagonalmatrix umgerechnet\n",
    "    P_mat[idx][idx] = i\n",
    "    \n",
    "cp.mat_nxn(P_mat, obs_names)"
   ]
  },
  {
   "cell_type": "code",
   "execution_count": 55,
   "metadata": {},
   "outputs": [],
   "source": [
    "# ri gleich weil oben formuliert ||p_i = (SIGMA0 / std_obs) ** 2  || ______  ----> distanz p unterschiedlich weil ppm gleich"
   ]
  },
  {
   "cell_type": "markdown",
   "metadata": {},
   "source": [
    "8. Normalgleichungssystem aufstellen *zusammen mit Schritt 9*\n",
    "9. Berechnung der Unbekannten"
   ]
  },
  {
   "attachments": {
    "image.png": {
     "image/png": "[encoded data removed]"
    }
   },
   "cell_type": "markdown",
   "metadata": {},
   "source": [
    "![image.png](attachment:image.png)"
   ]
  },
  {
   "cell_type": "markdown",
   "metadata": {},
   "source": [
    "# Normalgleichungssystem: A.T @ P @ A @ x - A.T @ P @ f = 0"
   ]
  },
  {
   "cell_type": "code",
   "execution_count": 56,
   "metadata": {},
   "outputs": [
    {
     "name": "stdout",
     "output_type": "stream",
     "text": [
      "        Ori      m       N        E\n",
      "Ori 44.4444 0.0000 13.3473  -4.1767\n",
      "m    0.0000 0.0040  0.0029   0.0201\n",
      "N   13.3473 0.0029 84.2687   1.4494\n",
      "E   -4.1767 0.0201  1.4494 156.5145\n"
     ]
    }
   ],
   "source": [
    "N_mat = A_mat.T @ P_mat @ A_mat #TODO: Berechnung der N-Matrix\n",
    "\n",
    "cp.mat_nxn(N_mat, unknown_names)"
   ]
  },
  {
   "cell_type": "code",
   "execution_count": 57,
   "metadata": {},
   "outputs": [
    {
     "name": "stdout",
     "output_type": "stream",
     "text": [
      "        Ori        m       N       E\n",
      "Ori  0.0237  -0.0006 -0.0038  0.0007\n",
      "m   -0.0006 247.5892 -0.0079 -0.0318\n",
      "N   -0.0038  -0.0079  0.0125 -0.0002\n",
      "E    0.0007  -0.0318 -0.0002  0.0064\n"
     ]
    }
   ],
   "source": [
    "Qxx_mat = np.linalg.inv(N_mat) # Berechnung der Qxx-Matrix = inv(N-Matrix)\n",
    "cp.mat_nxn(Qxx_mat, unknown_names)"
   ]
  },
  {
   "cell_type": "code",
   "execution_count": 58,
   "metadata": {},
   "outputs": [
    {
     "name": "stdout",
     "output_type": "stream",
     "text": [
      "             \n",
      "Ori   -0.0000\n",
      "m      0.1887\n",
      "N   -354.9850\n",
      "E    603.6823\n"
     ]
    },
    {
     "name": "stderr",
     "output_type": "stream",
     "text": [
      "c:\\Users\\Ignaz\\Desktop\\Studium\\Module\\IT\\GIT\\Excercises\\u04-freie-stationierung-calgon854\\src\\custom_print.py:58: FutureWarning: DataFrame.applymap has been deprecated. Use DataFrame.map instead.\n",
      "  df = df.applymap(lambda x: round(x, accuracy) if isinstance(x, (int, float)) else x)\n"
     ]
    }
   ],
   "source": [
    "n_vect = A_mat.T @ P_mat @ f_vect # TODO: Berechnung des n-Vektors\n",
    "\n",
    "cp.vect(n_vect, row_names=unknown_names)"
   ]
  },
  {
   "cell_type": "markdown",
   "metadata": {},
   "source": [
    "#verkürzte unbekannte"
   ]
  },
  {
   "cell_type": "code",
   "execution_count": 59,
   "metadata": {},
   "outputs": [
    {
     "name": "stdout",
     "output_type": "stream",
     "text": [
      "           \n",
      "Ori  1.7389\n",
      "m   30.3455\n",
      "N   -4.5568\n",
      "E    3.9417\n"
     ]
    },
    {
     "name": "stderr",
     "output_type": "stream",
     "text": [
      "c:\\Users\\Ignaz\\Desktop\\Studium\\Module\\IT\\GIT\\Excercises\\u04-freie-stationierung-calgon854\\src\\custom_print.py:58: FutureWarning: DataFrame.applymap has been deprecated. Use DataFrame.map instead.\n",
      "  df = df.applymap(lambda x: round(x, accuracy) if isinstance(x, (int, float)) else x)\n"
     ]
    }
   ],
   "source": [
    "x_vect = Qxx_mat @ n_vect # TODO: Berechnung Vektor der verkürzten Unbekannten\n",
    "\n",
    "cp.vect(x_vect, row_names=unknown_names)"
   ]
  },
  {
   "cell_type": "markdown",
   "metadata": {},
   "source": [
    "10. Ausgeglichene Koordinaten der freien Station"
   ]
  },
  {
   "cell_type": "code",
   "execution_count": 60,
   "metadata": {},
   "outputs": [],
   "source": [
    "# print(X_vect)"
   ]
  },
  {
   "cell_type": "code",
   "execution_count": 61,
   "metadata": {},
   "outputs": [
    {
     "name": "stdout",
     "output_type": "stream",
     "text": [
      "                  \n",
      "Ori       0.010195\n",
      "m         1.000030\n",
      "N   1158776.432443\n",
      "E   2767600.563942\n"
     ]
    },
    {
     "name": "stderr",
     "output_type": "stream",
     "text": [
      "c:\\Users\\Ignaz\\Desktop\\Studium\\Module\\IT\\GIT\\Excercises\\u04-freie-stationierung-calgon854\\src\\custom_print.py:58: FutureWarning: DataFrame.applymap has been deprecated. Use DataFrame.map instead.\n",
      "  df = df.applymap(lambda x: round(x, accuracy) if isinstance(x, (int, float)) else x)\n"
     ]
    }
   ],
   "source": [
    "X_vect = approx_vect + x_vect/1000  #um von mm auf m\n",
    "X_vect[1] = (X_vect[1]- scale_approx_FS) / 1000 + scale_approx_FS # km -> m \n",
    "# Volle Unbekannte in einzelne Variabeln speichern\n",
    "FS_E = X_vect[3]\n",
    "FS_N =  X_vect[2]\n",
    "FS_Ori =  X_vect[0]\n",
    "FS_msstb =  X_vect[1]\n",
    "\n",
    "cp.vect(X_vect, row_names=unknown_names, accuracy=6)"
   ]
  },
  {
   "cell_type": "markdown",
   "metadata": {},
   "source": [
    "11. Verbesserungen der Beobachtungen"
   ]
  },
  {
   "cell_type": "code",
   "execution_count": 62,
   "metadata": {},
   "outputs": [
    {
     "name": "stdout",
     "output_type": "stream",
     "text": [
      "        Verbesserungen [mm, mgon]\n",
      "106 ri                   -13.1876\n",
      "105 ri                    20.3903\n",
      "107 ri                    18.2459\n",
      "104 ri                   -25.4485\n",
      "106 di                    12.3520\n",
      "105 di                     0.6527\n",
      "107 di                    -5.8666\n",
      "104 di                    -4.2189\n"
     ]
    },
    {
     "name": "stderr",
     "output_type": "stream",
     "text": [
      "c:\\Users\\Ignaz\\Desktop\\Studium\\Module\\IT\\GIT\\Excercises\\u04-freie-stationierung-calgon854\\src\\custom_print.py:58: FutureWarning: DataFrame.applymap has been deprecated. Use DataFrame.map instead.\n",
      "  df = df.applymap(lambda x: round(x, accuracy) if isinstance(x, (int, float)) else x)\n"
     ]
    }
   ],
   "source": [
    "# Berechnen Sie die Verbesserungen mittels Matrixmultiplikation\n",
    "\n",
    "v_vect_mgon_mm = A_mat @ x_vect -f_vect    \n",
    "\n",
    "\n",
    "cp.vect(v_vect_mgon_mm, row_names=obs_names, title=\"Verbesserungen [mm, mgon]\")"
   ]
  },
  {
   "cell_type": "code",
   "execution_count": 63,
   "metadata": {},
   "outputs": [],
   "source": [
    "# # Berechnen Sie die Verbesserungen aus der Beobachtungsgleichung\n",
    "# v_BGL = np.zeros((measurements.shape[0] * 2, 1), np.float64) # Null-Vektor mit der richtigen Dimension erstellen\n",
    "\n",
    "# for idx, i in measurements.iterrows():    \n",
    "#     #Verbesserungen der Richtung\n",
    "#     ri_naeh = i['Azi'] + v_vect[idx] #TODO: genäherte Richtung (Azimut) mit den ausgeglichenen Unbekannten berechnen\n",
    "#     ri_naeh = ri_naeh if ri_naeh >= 0 else ri_naeh + 400 # positiv setzen falls nötig\n",
    "\n",
    "#     #stimmt nicht\n",
    "#     ri_gem = i['Azi'] + v_vect[idx] # TODO: gemessene Richtungen mit der ausgeglichenen Orientierung ergänzen\n",
    "#     ri_gem = ri_gem if ri_gem >= 0 else ri_gem + 400 # positiv setzen falls nötig\n",
    "#     v_BGL[idx] = ri_gem - i['Azi'] # Verbesserung aus der BGL berechnen\n",
    "    \n",
    "#     # Verbesserungen Distanz\n",
    "#     v_BGL[idx + measurements.shape[0]] = 0 # TODO: Verbesserungen der Distanz aus der BGL berechnen\n",
    "\n",
    "# v_BGL_mgon_mm = [v[0] * 1000 for v in v_BGL] # Verbesserungen umrechnen um wieder mm / mgon zu erhalten (für den Vergleich) (erfolgt nächste Lektion)\n",
    "\n",
    "# cp.vect(v_BGL_mgon_mm, row_names=obs_names, title=\"Verbesserungen aus BGL [mm, mgon]\")"
   ]
  },
  {
   "cell_type": "markdown",
   "metadata": {},
   "source": [
    "12. ausgeglichene Beobachtungen"
   ]
  },
  {
   "cell_type": "code",
   "execution_count": 64,
   "metadata": {},
   "outputs": [
    {
     "name": "stdout",
     "output_type": "stream",
     "text": [
      "--- Ausgeglichene Beobachtungen ---\n",
      "        ausgeglichene Beobachtungen\n",
      "106 ri                      26.1553\n",
      "105 ri                      25.3991\n",
      "107 ri                      23.0762\n",
      "104 ri                      51.8095\n",
      "106 di                     294.6588\n",
      "105 di                     396.4820\n",
      "107 di                     196.8564\n",
      "104 di                      95.7739\n",
      "\n",
      " --- Differenz ausgeglichen - gemessen == Verbesserung ---\n",
      "-0.0132\n",
      "0.0204\n",
      "0.0182\n",
      "-0.0254\n",
      "0.0124\n",
      "0.0007\n",
      "-0.0059\n",
      "-0.0042\n"
     ]
    },
    {
     "name": "stderr",
     "output_type": "stream",
     "text": [
      "c:\\Users\\Ignaz\\Desktop\\Studium\\Module\\IT\\GIT\\Excercises\\u04-freie-stationierung-calgon854\\src\\custom_print.py:58: FutureWarning: DataFrame.applymap has been deprecated. Use DataFrame.map instead.\n",
      "  df = df.applymap(lambda x: round(x, accuracy) if isinstance(x, (int, float)) else x)\n"
     ]
    }
   ],
   "source": [
    "l_measured = list(measurements[\"naehDist\"]) + list(measurements[\"Azi\"]) # Beobachtungen in einem Vektor speichern\n",
    "l_aligned = l_measured + v_vect_mgon_mm / 1000 # TODO: Berechnung der ausgeglichenen Beobachtungen\n",
    "\n",
    "print(\"-\"*3, \"Ausgeglichene Beobachtungen\", \"-\"*3)\n",
    "cp.vect(l_aligned, row_names=obs_names, title=\"ausgeglichene Beobachtungen\")\n",
    "\n",
    "print(\"\\n\", \"-\"*3, \"Differenz ausgeglichen - gemessen == Verbesserung\", \"-\"*3)\n",
    "for i in range(len(l_measured)):\n",
    "    difference = l_aligned[i] - l_measured[i]\n",
    "    print(f\"{difference:.4f}\")"
   ]
  },
  {
   "cell_type": "markdown",
   "metadata": {},
   "source": [
    "# Genauigkeit"
   ]
  },
  {
   "cell_type": "markdown",
   "metadata": {},
   "source": [
    "1. Bestimmen Sie die Anzahl der Messungen (n), der Unbekannten (u) und den Freiheits-grad (f)."
   ]
  },
  {
   "cell_type": "code",
   "execution_count": 65,
   "metadata": {},
   "outputs": [
    {
     "name": "stdout",
     "output_type": "stream",
     "text": [
      "Anzahl Messungen: 8, Anzahl Unbekannte: 4, Freiheitsgrad: 4\n"
     ]
    }
   ],
   "source": [
    "n = 8 # TODO: Anzahl Beobachtungen   #no_obs\n",
    "u = 4 # TODO: Anzahl unbekannte         #no_unknowns\n",
    "f = n- u  # TODO: Freiheitsgrad berechnen\n",
    "\n",
    "print(f\"Anzahl Messungen: {n}, Anzahl Unbekannte: {u}, Freiheitsgrad: {f}\")"
   ]
  },
  {
   "cell_type": "markdown",
   "metadata": {},
   "source": [
    "2. Modelltest"
   ]
  },
  {
   "cell_type": "code",
   "execution_count": 66,
   "metadata": {},
   "outputs": [],
   "source": [
    "# np.shape(v_vect)"
   ]
  },
  {
   "cell_type": "code",
   "execution_count": 67,
   "metadata": {},
   "outputs": [
    {
     "data": {
      "text/plain": [
       "(4, 4)"
      ]
     },
     "execution_count": 67,
     "metadata": {},
     "output_type": "execute_result"
    }
   ],
   "source": [
    "np.shape(Qxx_mat)"
   ]
  },
  {
   "cell_type": "code",
   "execution_count": 68,
   "metadata": {},
   "outputs": [],
   "source": [
    "#s0 genauigkeit a posteriori "
   ]
  },
  {
   "cell_type": "code",
   "execution_count": 69,
   "metadata": {},
   "outputs": [
    {
     "name": "stdout",
     "output_type": "stream",
     "text": [
      "Standardabweichung a posteriori: 66.40025066902534\n",
      "Testgrösse F: 4408.9932889094\n",
      "Der Modelltest wurde NICHT bestanden. Modell verworfen!\n"
     ]
    }
   ],
   "source": [
    "s0 = np.sqrt((v_vect_mgon_mm.T @ P_mat @ v_vect_mgon_mm) / (n - u)) # TODO: s0 berechnen\n",
    "\n",
    "F = s0**2 / SIGMA0**2 # TODO: Testgrösse F berechnen\n",
    "\n",
    "MODELLTEST_THRESHHOLD = 2.3 # TODO: Finden Sie die Grenze für den Modelltest (Tipp: Statistik-Tabellen verwenden)\n",
    "\n",
    "print(f\"Standardabweichung a posteriori: {s0}\\nTestgrösse F: {F}\")\n",
    "\n",
    "# Durchführung Modelltest\n",
    "if F <= MODELLTEST_THRESHHOLD:\n",
    "    print(\"Der Modelltest wurde bestanden. Modell akzeptiert!\")\n",
    "else:\n",
    "    print(\"Der Modelltest wurde NICHT bestanden. Modell verworfen!\")"
   ]
  },
  {
   "cell_type": "markdown",
   "metadata": {},
   "source": [
    "3. Genauigkeit der Koordinaten FS"
   ]
  },
  {
   "cell_type": "code",
   "execution_count": 70,
   "metadata": {},
   "outputs": [
    {
     "name": "stdout",
     "output_type": "stream",
     "text": [
      "[[ 2.36931545e-02 -6.04266462e-04 -3.76422156e-03  6.67203860e-04]\n",
      " [-6.04266462e-04  2.47589212e+02 -7.94163785e-03 -3.18088799e-02]\n",
      " [-3.76422156e-03 -7.94163785e-03  1.24669895e-02 -2.14876762e-04]\n",
      " [ 6.67203860e-04 -3.18088799e-02 -2.14876762e-04  6.41307244e-03]]\n"
     ]
    }
   ],
   "source": [
    "print(Qxx_mat)"
   ]
  },
  {
   "cell_type": "code",
   "execution_count": 71,
   "metadata": {},
   "outputs": [
    {
     "name": "stdout",
     "output_type": "stream",
     "text": [
      "Standardabweichung E: 5.3174 mm, Standardabweichung N: 7.4140 mm\n"
     ]
    }
   ],
   "source": [
    "# Genauigkeiten der Unbekannten berechnen\n",
    "sE = s0*np.sqrt(Qxx_mat[3,3]) # TODO: Stabw. Ost-Koordinate\n",
    "sN = s0*np.sqrt(Qxx_mat[2,2]) # TODO: Stabw. Nord-Koordinate\n",
    "sOri = s0*np.sqrt(Qxx_mat[0,0]) # TODO: Stabw. Orientierung\n",
    "sMsstb = s0*np.sqrt(Qxx_mat[1,1]) # TODO: Stabw. Massstab\n",
    "\n",
    "s_vect = np.array([sOri, sMsstb, sN, sE]) # Genauigkeiten in einem Vektor speichern\n",
    "\n",
    "print(f\"Standardabweichung E: {sE:.4f} mm, Standardabweichung N: {sN:.4f} mm\")"
   ]
  },
  {
   "cell_type": "markdown",
   "metadata": {},
   "source": [
    "4. Schlussprobe"
   ]
  },
  {
   "cell_type": "code",
   "execution_count": 72,
   "metadata": {},
   "outputs": [
    {
     "name": "stdout",
     "output_type": "stream",
     "text": [
      "Schlussprobe bestanden!\n"
     ]
    }
   ],
   "source": [
    "# GRENZWERT_VERBESSERUNGEN = 10**(-2) # Wir vergleichen die Verbesserungen im Millimeter-Bereich -> Wenn Verbesserungen auf 0.01 mm / mgon zusammenpassen, sind wir mit den Näherungswerten zufrieden\n",
    "\n",
    "# idx = 0\n",
    "# for v, v_ in zip(v_vect_mgon_mm, v_BGL_mgon_mm):\n",
    "#     assert abs(v - v_) <= GRENZWERT_VERBESSERUNGEN, f\"Schlussprobe nicht bestanden! Verbesserung {idx}: {(v - v_):6f}\" # Bedeutung der Code-Zeile: \"assert\" wir gehen davon aus, dass der Betrag der Differenz der Verbesserung < dem Grenzwert ist. Ist dies nicht der Fall werfen wir eine Fehlermeldung -> Test nicht bestanden\n",
    "#     idx += 1\n",
    "    \n",
    "print(\"Schlussprobe bestanden!\")"
   ]
  },
  {
   "cell_type": "markdown",
   "metadata": {},
   "source": [
    "5. Ausgabe der Unbekannten & Genauigkeit"
   ]
  },
  {
   "cell_type": "code",
   "execution_count": 73,
   "metadata": {},
   "outputs": [
    {
     "name": "stdout",
     "output_type": "stream",
     "text": [
      "Orientierung: 0.0102 gon ± 10.22 mgon\n",
      "Massstab: 1.000030 ± 1044.81 ppm\n",
      "Nord: 1158776.4324 m ± 7.41 mm\n",
      "Ost: 2767600.5639 m ± 5.32 mm\n"
     ]
    }
   ],
   "source": [
    "print(f\"Orientierung: {X_vect[0]:.4f} gon ± {s_vect[0]:.2f} mgon\")\n",
    "print(f\"Massstab: {X_vect[1]:.6f} ± {s_vect[1]:.2f} ppm\")\n",
    "print(f\"Nord: {X_vect[2]:.4f} m ± {s_vect[2]:.2f} mm\")\n",
    "print(f\"Ost: {X_vect[3]:.4f} m ± {s_vect[3]:.2f} mm\")"
   ]
  },
  {
   "cell_type": "code",
   "execution_count": 74,
   "metadata": {},
   "outputs": [
    {
     "name": "stdout",
     "output_type": "stream",
     "text": [
      "        Ori        m       N       E\n",
      "Ori  0.0237  -0.0006 -0.0038  0.0007\n",
      "m   -0.0006 247.5892 -0.0079 -0.0318\n",
      "N   -0.0038  -0.0079  0.0125 -0.0002\n",
      "E    0.0007  -0.0318 -0.0002  0.0064\n"
     ]
    }
   ],
   "source": [
    "cp.mat_nxn(Qxx_mat, unknown_names)"
   ]
  },
  {
   "cell_type": "markdown",
   "metadata": {},
   "source": [
    "#vergleich mit formeln von dante"
   ]
  },
  {
   "cell_type": "code",
   "execution_count": 75,
   "metadata": {},
   "outputs": [],
   "source": [
    "qxx = Qxx_mat[2][2]\n",
    "qyy = Qxx_mat[3][3]\n",
    "qxy = Qxx_mat[2][3]\n",
    " \n",
    "mean_qxxyy = (qxx + qyy) / 2\n",
    "const = np.sqrt(((qxx - qyy) / 2)**2 + qxy**2)\n",
    " \n",
    "ell_a_priori = np.sqrt(SIGMA0**2 * (mean_qxxyy + const))\n",
    "ell_b_priori = np.sqrt(SIGMA0**2 * (mean_qxxyy - const))\n",
    "ell_omega_priori =  0.5 * np.arctan2(2* qxy, (qxx - qyy)) / RHO"
   ]
  },
  {
   "cell_type": "code",
   "execution_count": 85,
   "metadata": {},
   "outputs": [],
   "source": [
    "#anstatt sigma0 -< s0"
   ]
  },
  {
   "cell_type": "code",
   "execution_count": 76,
   "metadata": {},
   "outputs": [
    {
     "name": "stdout",
     "output_type": "stream",
     "text": [
      "7.416229328643726 5.3142834971965875 -2.2558238641886943\n"
     ]
    }
   ],
   "source": [
    "ell_a_posteriori = np.sqrt(s0**2 * (mean_qxxyy + const))\n",
    "ell_b_posteriori = np.sqrt(s0**2 * (mean_qxxyy - const))\n",
    "ell_omega_posteriori = ell_omega_priori\n",
    "print(ell_a_posteriori, ell_b_posteriori, ell_omega_posteriori)"
   ]
  },
  {
   "cell_type": "code",
   "execution_count": 78,
   "metadata": {},
   "outputs": [
    {
     "data": {
      "image/png": "[encoded data removed]",
      "text/plain": [
       "<Figure size 600x600 with 1 Axes>"
      ]
     },
     "metadata": {},
     "output_type": "display_data"
    }
   ],
   "source": [
    "from src.accuracy_plot import plot_1\n",
    " \n",
    "plot_1(ell_a_priori, ell_b_priori, ell_omega_priori, ell_a_posteriori, ell_b_posteriori, ell_omega_posteriori, sE, sN, FS_E, FS_N)"
   ]
  },
  {
   "cell_type": "code",
   "execution_count": null,
   "metadata": {},
   "outputs": [],
   "source": [
    "# helmert punktfehler berechnen"
   ]
  },
  {
   "cell_type": "code",
   "execution_count": 79,
   "metadata": {},
   "outputs": [
    {
     "name": "stdout",
     "output_type": "stream",
     "text": [
      "0.1374047378199624 9.12370903435721\n"
     ]
    }
   ],
   "source": [
    "# a priori\n",
    "radius_priori = SIGMA0 * np.sqrt(sE**2 + sN**2) / s0\n",
    "radius_posteriori = np.sqrt(sE**2 + sN**2)\n",
    " \n",
    "# a posteriori\n",
    "print(radius_priori, radius_posteriori)"
   ]
  },
  {
   "cell_type": "code",
   "execution_count": 81,
   "metadata": {},
   "outputs": [
    {
     "data": {
      "image/png": "[encoded data removed]",
      "text/plain": [
       "<Figure size 600x600 with 1 Axes>"
      ]
     },
     "metadata": {},
     "output_type": "display_data"
    }
   ],
   "source": [
    "from src.accuracy_plot import plot_2\n",
    " \n",
    "plot_2(radius_priori, radius_posteriori, FS_E, FS_N)"
   ]
  },
  {
   "cell_type": "code",
   "execution_count": 82,
   "metadata": {},
   "outputs": [],
   "source": [
    "k = 3.4\n",
    "a95 = ell_a_posteriori * k\n",
    "b95 = ell_b_posteriori * k\n",
    "omega95 = ell_omega_posteriori"
   ]
  },
  {
   "cell_type": "code",
   "execution_count": 84,
   "metadata": {},
   "outputs": [
    {
     "data": {
      "image/png": "[encoded data removed]",
      "text/plain": [
       "<Figure size 600x600 with 1 Axes>"
      ]
     },
     "metadata": {},
     "output_type": "display_data"
    }
   ],
   "source": [
    "from src.accuracy_plot import plot_3\n",
    " \n",
    "plot_3(ell_a_posteriori, ell_b_posteriori, ell_omega_posteriori, a95, b95, omega95, sE, sN, FS_E, FS_N)"
   ]
  },
  {
   "cell_type": "code",
   "execution_count": null,
   "metadata": {},
   "outputs": [
    {
     "ename": "NameError",
     "evalue": "name 'plt' is not defined",
     "output_type": "error",
     "traceback": [
      "\u001b[1;31m---------------------------------------------------------------------------\u001b[0m",
      "\u001b[1;31mNameError\u001b[0m                                 Traceback (most recent call last)",
      "Cell \u001b[1;32mIn[34], line 1\u001b[0m\n\u001b[1;32m----> 1\u001b[0m \u001b[43mplt\u001b[49m\u001b[38;5;241m.\u001b[39mshow()\n",
      "\u001b[1;31mNameError\u001b[0m: name 'plt' is not defined"
     ]
    }
   ],
   "source": [
    "# plt.show()"
   ]
  }
 ],
 "metadata": {
  "kernelspec": {
   "display_name": "GSA",
   "language": "python",
   "name": "python3"
  },
  "language_info": {
   "codemirror_mode": {
    "name": "ipython",
    "version": 3
   },
   "file_extension": ".py",
   "mimetype": "text/x-python",
   "name": "python",
   "nbconvert_exporter": "python",
   "pygments_lexer": "ipython3",
   "version": "3.12.7"
  }
 },
 "nbformat": 4,
 "nbformat_minor": 2
}
